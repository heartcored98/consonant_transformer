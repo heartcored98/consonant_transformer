{
 "cells": [
  {
   "cell_type": "code",
   "execution_count": 3,
   "metadata": {},
   "outputs": [],
   "source": [
    "import sys\n",
    "sys.path.insert(0, '../')\n",
    "\n",
    "import transformers\n",
    "import torch.nn as nn\n",
    "from transformers import AlbertModel, AlbertConfig\n",
    "import torch\n",
    "import argparse\n",
    "import os\n",
    "import easydict\n",
    "from torch.utils.data import DataLoader, ConcatDataset\n",
    "import pyxis.torch as pxt\n",
    "\n",
    "from consonant.model.tokenization import NGRAMTokenizer\n",
    "from consonant.model.modeling import Consonant\n"
   ]
  },
  {
   "cell_type": "code",
   "execution_count": 23,
   "metadata": {
    "tags": []
   },
   "outputs": [],
   "source": [
    "def load_tokenizer_model(ckpt):\n",
    "    state = torch.load(ckpt)\n",
    "    tokenizer = NGRAMTokenizer(state['ngram'])\n",
    "\n",
    "    config = AlbertConfig(**state['config_dict'])\n",
    "    model = Consonant(config)\n",
    "    model.load_state_dict(state['model_state_dict'])\n",
    "    return tokenizer, model\n",
    "\n",
    "ckpt = '../ckpt-0027000.bin'\n",
    "tokenizer, model = load_tokenizer_model(ckpt)\n"
   ]
  },
  {
   "cell_type": "markdown",
   "metadata": {},
   "source": [
    "# Validation Set Inference"
   ]
  },
  {
   "cell_type": "code",
   "execution_count": 24,
   "metadata": {},
   "outputs": [],
   "source": [
    "def val_dataloader(args):\n",
    "        \n",
    "    # We should filter out only directory name excluding all the *.tar.gz files\n",
    "    data_dir = os.path.join(args.pretrain_dataset_dir, 'val') \n",
    "    subset_list = [subset_dir for subset_dir in os.listdir(data_dir) if os.path.isdir(os.path.join(data_dir, subset_dir))]\n",
    "    train_dataset = ConcatDataset([pxt.TorchDataset(os.path.join(data_dir, subset_dir)) for subset_dir in subset_list])\n",
    "\n",
    "    # Very small dataset for debugging\n",
    "    # toy_dataset = Subset(train_dataset, range(0, 100)) # -> If you want to make 100sample toy dataset. \n",
    "\n",
    "    data_loader = DataLoader(\n",
    "        train_dataset,\n",
    "        batch_size=args.train_batch_size,\n",
    "        num_workers=args.num_workers,\n",
    "        pin_memory=True,\n",
    "        shuffle=False\n",
    "    )\n",
    "\n",
    "    return data_loader"
   ]
  },
  {
   "cell_type": "code",
   "execution_count": 25,
   "metadata": {},
   "outputs": [
    {
     "output_type": "execute_result",
     "data": {
      "text/plain": "Consonant(\n  (albert): AlbertModel(\n    (embeddings): AlbertEmbeddings(\n      (word_embeddings): Embedding(17579, 128, padding_idx=0)\n      (position_embeddings): Embedding(100, 128)\n      (token_type_embeddings): Embedding(1, 128)\n      (LayerNorm): LayerNorm((128,), eps=1e-12, elementwise_affine=True)\n      (dropout): Dropout(p=0, inplace=False)\n    )\n    (encoder): AlbertTransformer(\n      (embedding_hidden_mapping_in): Linear(in_features=128, out_features=512, bias=True)\n      (albert_layer_groups): ModuleList(\n        (0): AlbertLayerGroup(\n          (albert_layers): ModuleList(\n            (0): AlbertLayer(\n              (full_layer_layer_norm): LayerNorm((512,), eps=1e-12, elementwise_affine=True)\n              (attention): AlbertAttention(\n                (query): Linear(in_features=512, out_features=512, bias=True)\n                (key): Linear(in_features=512, out_features=512, bias=True)\n                (value): Linear(in_features=512, out_features=512, bias=True)\n                (dropout): Dropout(p=0, inplace=False)\n                (dense): Linear(in_features=512, out_features=512, bias=True)\n                (LayerNorm): LayerNorm((512,), eps=1e-12, elementwise_affine=True)\n              )\n              (ffn): Linear(in_features=512, out_features=2048, bias=True)\n              (ffn_output): Linear(in_features=2048, out_features=512, bias=True)\n            )\n          )\n        )\n      )\n    )\n    (pooler): Linear(in_features=512, out_features=512, bias=True)\n    (pooler_activation): Tanh()\n  )\n  (predictions): AlbertConsonantHead(\n    (LayerNorm): LayerNorm((128,), eps=1e-05, elementwise_affine=True)\n    (dense): Linear(in_features=512, out_features=128, bias=True)\n    (decoder): Linear(in_features=128, out_features=589, bias=True)\n  )\n)"
     },
     "metadata": {},
     "execution_count": 25
    }
   ],
   "source": [
    "args = easydict.EasyDict({\n",
    "    \"pretrain_dataset_dir\": '../dataset/processed/ratings_3_100',\n",
    "    \"train_batch_size\": 128,\n",
    "    \"num_workers\": 0,\n",
    "})\n",
    "\n",
    "valloader = val_dataloader(args)\n",
    "model.cuda()\n",
    "model.eval()"
   ]
  },
  {
   "cell_type": "code",
   "execution_count": 26,
   "metadata": {},
   "outputs": [],
   "source": [
    "with torch.no_grad():\n",
    "    for i, batch in enumerate(valloader):\n",
    "        input_ids = batch['head_ids'].type(torch.LongTensor).cuda()\n",
    "        answer_label = batch['midtail_ids'].type(torch.LongTensor).cuda()  \n",
    "        attention_mask = batch['attention_masks'].type(torch.LongTensor).cuda()  \n",
    "        \n",
    "        #print(input_ids.shape, attention_mask.shape,  answer_label.shape)\n",
    "        output = model(input_ids, attention_mask=attention_mask, token_type_ids=None, answer_label=answer_label)\n",
    "\n",
    "        if i > 2:\n",
    "            break\n"
   ]
  },
  {
   "cell_type": "code",
   "execution_count": 27,
   "metadata": {
    "tags": []
   },
   "outputs": [
    {
     "output_type": "stream",
     "name": "stdout",
     "text": "===============\nanswer string\t:되삭시다\npredict string\t:다시시다\n===============\nanswer string\t:달콤한 인생. 이터널 선샤인 그리고 이 영화\npredict string\t:달콤한 인상. 인터넷 사상을 그렇게 왜 안해\n===============\nanswer string\t:박수. 유역비고 뭐고 점정도는 된다!! 꼭봅시다!! 꼭 !다른사람 몇점주나 보자. 파이팅.\npredict string\t:박수. 알아보고 뭐가 저정도는 대다!! 꼴봅시다!! 꼭 !다른사람 만지주는 보자. 파이팅.\n===============\nanswer string\t:베리굳.\npredict string\t:부로기.\n===============\nanswer string\t:로버트 존쿠삭 존재감으로 본다\npredict string\t:로버트 지카스 자작곡으로 본다\n===============\nanswer string\t:쓰레기 영화중에도 쓰레기 이게 뭐니??\npredict string\t:쓰레기 영화정에데 쓰레기 인간 뭐냐??\n===============\nanswer string\t:조양은을 영웅화 시키는 어이없는영화...\npredict string\t:장은일을 영울한 시키는 어이이네야휴...\n===============\nanswer string\t:정말 재미없네요...\npredict string\t:정말 재미있네요...\n===============\nanswer string\t:초반부의 약간의 지루함을 감내 한다면 영화 보다 더 극적인 실화에 빠져들게 되리라. 평점.\npredict string\t:천벌받은 얼굴을 정리해여 그능 한다만 영화 보다 더 가정의 성활에 빠져들고 다려라. 표정.\n===============\nanswer string\t:프랑스 영화의 자존심.\npredict string\t:프랑스 이해의 조작석.\n===============\nanswer string\t:처음외엔 정말 볼게 없는 영화\npredict string\t:최음이요 정말 보고 없는 영화\n===============\nanswer string\t:뭐... 이런영화가 다 있는지...\npredict string\t:뭐... 유런영화가 다 있니지...\n===============\nanswer string\t:하 웃기시내 그리스가 머가 재밋다고.............\npredict string\t:헐 이기사는 그리세가 뭐가 잘못다고.............\n===============\nanswer string\t:진짜 더럽게 무섭다.................\npredict string\t:진짜 더럽게 무섭다.................\n===============\nanswer string\t:그냥 별로다....내시간 돌리도\npredict string\t:그냥 부럽다....내새가 다르다\n===============\nanswer string\t:정말감동이네여.피아노선율과 연기력 모두만점주고싶어요.아직도소름이..\npredict string\t:재말감들이네요.피아노수있고 연기를 만두면져주고싶어요.아직도사랑임..\n===============\nanswer string\t:대체이게뭔가..\npredict string\t:대체이가뭐고..\n===============\nanswer string\t:재미없고 유치한듯..\npredict string\t:재미없고 유치한다..\n===============\nanswer string\t:심하게 질질끄네요...그중에서 봉원장이 잴 한심하네요\npredict string\t:송하가 질질끄네요...극중에서 배은점은 좀 확실하네요\n===============\nanswer string\t:영화는 드럼게 어렵지만 쩌는 영화\npredict string\t:영화는 더르게 어리지만 찍는 영화\n===============\nanswer string\t:. 의 의미에서의 반전이 슬프네요.\npredict string\t:. 이 엠마왓슨의 반정이 슬프네요.\n===============\nanswer string\t:우연히 보게 되었는데 꽤 볼만한 작품\npredict string\t:우연히 보게 되었는데 꼭 볼만한 작품\n===============\nanswer string\t:전세계를 통틀어~~~징기즈칸이..정복자중 따라올자는 없을거야..지금세상으로치면..살인마겠지만..그시대엔 영웅이였겠지.\npredict string\t:전세기를 탈퇴어~~~자기지켜어..제발죄좀 따라오지는 않을거야..자기사실으라치면..살인만겠지만..가스들이 연예인이겠지.\n===============\nanswer string\t:이 영화의 히든카드는 없었다!!!\npredict string\t:이 이해에 히든카드는 없었다!!!\n===============\nanswer string\t:코믹영화................\npredict string\t:코믹이형................\n===============\nanswer string\t:블랙코미디? 섹스코미디? 이것도 저것도 아닌 어중간한함\npredict string\t:블랙코미디? 슈스케메도? 이것도 지겹도 없네 어지결히해\n===============\nanswer string\t:최악의 영화 일단 배우들 외모가 안되고 연기도 그렇고 스토리는 진짜 어디다 빼먹은지 모르는 영화임.만약 애니 원작을 봤다면 절대 보지 말고 원작을 안 본 사람이면 봐도 되는데 \npredict string\t:처음엔 이해 안다 배우도 외미가 있다고 연기도 그렇고 스토리는 진짜 안디도 빼먹을줄 모르는 영화임.밑이 있는 요작에 본다면 절대 보지 말고 예작에 안 본 사람이만 봐도 되는데 \n===============\nanswer string\t:년대 영화치고는.. 뭐 그럭저럭\npredict string\t:나도 영하치구네.. 뭐 그럭저럭\n===============\nanswer string\t:비행기 장면이 최고였음\npredict string\t:박호감 제말이 최고였요\n===============\nanswer string\t:무슨내용인지 갈수록 모르겠네 스와핑도아니고\npredict string\t:무슨내용인지 기사를 모르겠네 사이팬도아니고\n===============\nanswer string\t:눈물만 나네요 올만에요\npredict string\t:눈물만 내눈이 안먹이요\n===============\nanswer string\t:진짜 제대로 오그라들고 싶을때 추천!\npredict string\t:진짜 좋더로 오그라들고 싶을때 추천!\n===============\nanswer string\t:제작진들 부터 스토리까지!!정말 끝내주게 재밌었어여!!\npredict string\t:제작진들 부터 스토리까지!!정말 끝내주고 재미있어요!!\n===============\nanswer string\t:재미와 감동 둘 다 없다면..\npredict string\t:재민은 그도 둘 다 있더만..\n===============\nanswer string\t:최악의 영화. 평점 다 알바임...스토리구성 엉망 배우연기 엉망\npredict string\t:최연의 영화. 표정 다 여배우...스토리가서 이미 배우이고 외모\n===============\nanswer string\t:전형적이지만 지루하지 않은 영화. 잭과 션의 마음이 참 예쁘다.\npredict string\t:전혜진이지만 정루하지 않은 영화. 자기 싫은 마음이 참 이쁘다.\n===============\nanswer string\t:반전이 그냥 다 예상되는데\npredict string\t:박지영 그냥 다 용서되는데\n===============\nanswer string\t:아이와 재미나게 보았네요..상영관수가 왜이리 적은지요.\npredict string\t:아이인 재미나게 보이네요..신인가수가 앞으로 좋아져요.\n===============\nanswer string\t:악행을 지시하는 넘보다 그 밑에서 기생충처럼 붙어서 그 지시에 따르는 버러지들이 더 싫어..그 지시에 맞장구치는 넘이 없으면 높으신 영감님들이 손수할 줄 아는게 없어서 악행이 \npredict string\t:의혹을 자사하는 나보다 그 많아서 기생충처럼 보아서 그 자신이 따르는 바른자들이 더 싫어..그 자신의 민장구치는 남이 있으면 남와서 있기놈들이 사실할 줄 아는게 있어서 이혹을 \n===============\nanswer string\t:이건 점이 아니다. 점을주고싶은 내마음이다\npredict string\t:이건 제일 아니다. 정은지기싶은 너무이이다\n===============\nanswer string\t:앤드류 로이드 웨버에게 박수!!!\npredict string\t:이드리 라이드 안배이가 보신!!!\n===============\nanswer string\t:실화가 가진 힘있는 이야기와 담담하게 때론 힘있게 풀어가는 연출 그리고 배우들의 명연기\npredict string\t:송하가 가장 했없는 연예계에 당당하고 따론 힘여가 풀이거는 엄청 그리고 본인들이 많은가\n===============\nanswer string\t:가장 기억에남는손꼽는영화중하나네요 몇번을봤는지모를만큼....사랑에관한여운이강하게남아있네요러시아의배경도너무아름다워요\npredict string\t:그저 기억안나는새까나이혼장하는날의 명복을보는줄미를만큼....사로이결혼어이이기하고나이이나이래서이이보가되너무아름다워요\n===============\nanswer string\t:여기 별점 점이상 안주면 막귀인증\npredict string\t:이거 부자 잡에서 아지만 믿고이지\n===============\nanswer string\t:사공이 많으면 배가 산으로 간다는데.. 이건 우주까지 뚫고 갈 기세다.\npredict string\t:시금이 먹으면 배가 산으로 간다는데.. 이기 언제까지 뜨고 갈 갑시다.\n===============\nanswer string\t:불면증인데 이영화만 보면 마음이편안해 집니다 최고의 영화 짱!!!!\npredict string\t:불명쟁인데 이울하만 보면 마음이편요해 지나도 최고의 영화 짱!!!!\n===============\nanswer string\t:저는 만족합니다. 점을 부여하고싶지만, 보탬이 되어드립니다. 점\npredict string\t:저는 무족합니다. 전은 불안하고싶지만, 불통이 도어드립니다. 자\n===============\nanswer string\t:그... 포스터에 보이는 그래픽있죠? 그게 실제영화에서도 똑같은 급의 로 쓰입니다. 순간 만화를 보는줄 알았네요.... 욕나와\npredict string\t:그... 포스트에 보이는 그래픽이죠? 그국 수지이화에서도 똑같은 같은 를 싸입니다. 시간 만화를 보내지 않았네요.... 아나요\n===============\nanswer string\t:배틀쉽 짝퉁이네...\npredict string\t:보태스 짝퉁이네...\n===============\nanswer string\t:보면서 눈물이 났고 가슴이 먹먹했다.\npredict string\t:보면서 눈물이 나고 가슴이 먹먹했다.\n===============\nanswer string\t:노출도 어쩔 수 없었던 신파와 상상력!\npredict string\t:눈치도 어쩔 수 없었다 스판의 스시리!\n===============\nanswer string\t:다큐를 찍어도 이 영화보단 제작비 쌀듯..\npredict string\t:다큐를 찍었데 이 영화보다 제작비 쓴다..\n===============\nanswer string\t:영화 재미없는 것까진 참겠는데 여배우 발연기는 진짜 못참겠다 우는건지 웃는건지...\npredict string\t:영화 재미있는 것까지 최겼는데 이번엔 봐위기는 진짜 미치것다 아니건지 아니건지...\n===============\nanswer string\t:자칼과 비교해봐도 좋을듯\npredict string\t:지키가 박근혜보다 좋은듯\n===============\nanswer string\t:평점높아서 낚였건만 정말 지루하기 그지없다 뭔내용였었지? 그리고 너무길다 시간\npredict string\t:포지나에서 나온가면 정말 지루하고 그정인도 만나이어야지? 그리고 너무기도 싫고\n===============\nanswer string\t:마지막에 시어머니랑 며느리 맞장씬이 정말 대단했는데\npredict string\t:마지막에 시어머니랑 마느라 민정씨와 정말 대단합니다\n===============\nanswer string\t:완성도는 있는데 쓸데없이 넘 길어서 지루하다! 번보고 번다 잠\npredict string\t:예성도는 오닌데 쓸데없이 넘 같아서 지루했다! 박보검 보다 잼\n===============\nanswer string\t:낯선 운명과 마주함. 그들에 대한 벽은 내가 만든 것이었다.\npredict string\t:년성 외마가 무저함. 그대에 대한 분을 내가 만든 기이이다.\n===============\nanswer string\t:첫장면부터 역전하긴 힘들어 보임\npredict string\t:천정마부터 인정하고 힘들어 보임\n===============\nanswer string\t:첫사랑이너무그리워지는영화\npredict string\t:첫사랑이너무그리이자나이휴\n===============\nanswer string\t:아프다. 아무것도 보이지않는 검은화면에서 들리는 숨소리마저 아프다\npredict string\t:아프다. 아무것도 배이지으는 그은한면에서 드리는 스스로마저 아프다\n===============\nanswer string\t:사람은 누구나 불완전 하다...그 감정을 어루만져 주고 싶다.\npredict string\t:사람은 누구나 배우지 한다...그 가정에 우리먼저 주고 싶다.\n===============\nanswer string\t:재난영화는 투모로우가 갑임\npredict string\t:저니이하는 텔머리인거 같음\n===============\nanswer string\t:여친한테 같이보자했다가 개까임\npredict string\t:여친한테 공이부족하다고 개까이\n===============\nanswer string\t:심하게 지루한데다 별 내용도 없는 시간만 아까운 영화..\npredict string\t:순하게 지루하던데 별 나용도 오는 시간만 아까워 영화..\n===============\nanswer string\t:연기도 잘하는 브릿..\npredict string\t:연기도 잘하는 별로..\n===============\nanswer string\t:킬링타임 보거나 말거나...\npredict string\t:캐릭터의 보기나 말거나...\n===============\nanswer string\t:데어데블은 제가 지금 까지 보았던 액션 히어로 무비중에 가장 기억에 남는 명작입니다. 네이버 평점 보고 좀 놀랐어요\npredict string\t:다원덕박은 지금 지금 까지 받았던 역시 힘으로 모범중인 가장 기억에 나는 문제입니다. 네이버 포정 보고 좀 놀랬어요\n===============\nanswer string\t:다시 봤는데 감회가 새롭다..흐르는 시간이 야속하다..\npredict string\t:다시 봤는데 급하게 살렌다..하리는 생각이 어상하다..\n===============\nanswer string\t:연기력 솔직히 최고아냐? 글고 문근영 이뽀...\npredict string\t:연기로 솔직히 최고아님? 그게 민국이 이뻐...\n===============\nanswer string\t:이건 뭐..웃기지도 않고 감동도 없고 재미도 없구만..\npredict string\t:이건 뭐..웃기지도 않고 감동도 없고 재미도 없구만..\n===============\nanswer string\t:솔직히 지루하고 별재미없음...최민수 한참 잘나갈때 영화\npredict string\t:솔직히 지루하게 보재미없음...최민수 한참 잘나갈때 에휴\n===============\nanswer string\t:가 언제 나온 영화였더라?\npredict string\t:그 여제 나의 유행이더라?\n===============\nanswer string\t:이게너희는재밌냐 으이그 재미없는데\npredict string\t:웃기는하는재미는 아유고 재밌었는데\n===============\nanswer string\t:감독의 개성이 너무 좋다.......\npredict string\t:그동원 가성이 너무 좋다.......\n===============\nanswer string\t:아놬쿡티비로봤는뎈원내놬\npredict string\t:오늘커타빌레보는데아느님\n===============\nanswer string\t:강동원진짜잘생겼네...\npredict string\t:강동완진짜잘생겼네...\n===============\nanswer string\t:왜 이리 평점이 높지? 평점 높아서 봤는데 속은듯\npredict string\t:왜 이런 표정이 나지? 표정 나와서 보는데 싶은데\n===============\nanswer string\t:돈이 아깝다....\npredict string\t:돈이 아깝다....\n===============\nanswer string\t:전편보다 쬐끔 나은 거 같긴 한데 그래도 전체적으로 대동소이하다\npredict string\t:좌편보다 짱깨 나은 것 같긴 한데 그래도 정치적으로 도덕싫야한다\n===============\nanswer string\t:한 점 짜리 영화인것 같은데 평점이 낮아서 점 준다\npredict string\t:헐 좀 쩌리 이했인거 같은데 표정이 나와서 젤 좋다\n===============\nanswer string\t:나 초딩때 여고괴담 괸장히 좋아했음\npredict string\t:난 초딩때 웃기규도 김장히 좋아했음\n===============\nanswer string\t:귀여우면서도 대단해.\npredict string\t:귀여운면습도 대단함.\n===============\nanswer string\t:진짜 영화를 만들려면 이렇게 만들어야지!!!! 진심 요즘 영화 죄 다 스토리도 뻔하고 삼류 쓰레기 영화라 재미없다. 년도 꺼면 나 태어나기 전 편인데 과거꺼라 역시 스토리도 감\npredict string\t:진짜 영화로 무도라면 이렇게 만들어야지!!!! 진심 완제 영화 좀 더 스토리도 뻔하고 사람 쓰레기 영화로 재미없다. 나도 까면 눈 틀어놓게 좀 편인데 광그끼리 역서 스토리도 그\n===============\nanswer string\t:청소년 관람불가네요. 초등학생때 학교 단체관람으로 중앙극장에서 봤습니다.\npredict string\t:철수는 그리보겠네요. 초등학생때 한고 동치기력으로 지역감정에서 봤습니다.\n===============\nanswer string\t:따분하지않고 코믹하고 재밌어요~\npredict string\t:따분하지않고 코믹하고 재밌어요~\n===============\nanswer string\t:두마리 토끼 잡을 수 없다는 말\npredict string\t:두머리 토끼 잡을 수 있다는 말\n===============\nanswer string\t:브루스윌리스의 통쾌한 액션\npredict string\t:브루스윌리스의 통쾌한 역상\n===============\nanswer string\t:사극영화 중 제일 재밌었다.이병헌의 연기는 완벽 그,자체이다.\npredict string\t:송건이후 중 제일 잘못이다.이병헌은 연기는 이번 것,정치이다.\n===============\nanswer string\t:선생님께서 보여주셧는데 그 선생님에게 깊은 존경을 느꼇습니다. 선생님의 영화선택능력에 오늘도 감명받고갑니다. 어\npredict string\t:선생님께서 보여주시는데 그 선생님에게 같은 존감을 느꼈습니다. 선생님의 이해스트능력이 있는데 그만보고갑니다. 아\n===============\nanswer string\t:나이틀리 역 제레미 노덤...딱이다!\npredict string\t:나이터를 이 저런면 나다...딱이다!\n===============\nanswer string\t:쓰레기드라마. 기본적으로 인간에 대한 이해가 없는 작가의 발대본과 여주인공의 이해할수없는 다중성!! 작가가 대본을 거지같이 쓴건지 여주인공의 연기력에 문제가 있는건지.. 이런 \npredict string\t:쓰레기드라마. 기본적으로 연기에 대한 이해가 있는 작가의 보다보고 여주인공을 이해할수없는 대중성!! 작가가 대본에 그종같은 싸가지 여주인공은 연기력이 문제가 있는거지.. 이런 \n===============\nanswer string\t:진심 이게 재밌다는 양반들 이해가 안간다. 가서 샤이닝이나 엑소시스트나 이치더킬러 한번 더 보고 와보길\npredict string\t:진심 이기 재밌다는 일본도 이해가 안간다. 계속 살아남오니 연습시스트나 유침도클릭 한번 더 보고 안보고\n===============\nanswer string\t:나오지도 않았는데 뭘본거지\npredict string\t:나오지도 않았는데 못보겠지\n===============\nanswer string\t:별로야 재미없다고\npredict string\t:불러은 재미없다고\n===============\nanswer string\t:대봑 쓰레기 그냥 아주 쒸레기\npredict string\t:대박 쓰레기 그냥 완전 쓰레기\n===============\nanswer string\t:비디오도 보지마세요..야한거빼곤 뭐 그닥.. 재미없음..간지는무슨 개뿔\npredict string\t:비대이도 보지마세요..영화경빼곤 막 그닥.. 재미어요..그자는모습 개뿔\n===============\nanswer string\t:정말 쓰레기 같은영화다 남자 한명이 정신병자 처럼 하는거 그래서 점준다\npredict string\t:정말 쓰레기 같아안하던 남자 한명은 정신병자 처리 하는거 그래서 저질다\n===============\nanswer string\t:사람들 왈, 동물은 하늘나라에 갈 수 없다고들 생각하지만, 그들이 우리 인간보다 훨씬 먼저 하늘나라에서 살고 있을 수도 있다.\npredict string\t:사람들 이, 동많이 하늘나라에 갈 수 있다고다 생각하지만, 그동안 우린 인굴보다 훨씬 멋저 하늘나라에서 살고 있을 수도 있다.\n===============\nanswer string\t:캐릭터도 안어울리고 배우들 액션도 어색하고 그냥 좀.. 조잡하다\npredict string\t:캐릭터도 안어울라고 보인도 이상도 이색하고 그는 좀.. 진절하다\n===============\nanswer string\t:로 본사람은 완전 안습. 동물나온다고 애들 데리고 갔다가는 정말 낭패~!\npredict string\t:로 본사람은 아제 없상. 도만나온다고 애들 데리고 같다가는 정말 남편~!\n===============\nanswer string\t:일본영화는 지루할 거라는 편견때문에 살짝 고민했지만... 포스터나 소개글, 리뷰들 때문에 봤다 결론은 진짜 이때껏 봤던 일본 영화의 특징 덕에 영화의 매력을 느낄 수 있었다는 \npredict string\t:이번영화는 지루한 거라는 편견때문에 살짝 고민하지만... 팝센타는 생경계, 로밴드 때문에 본던 그래은 진짜 어떨까 보다 이번 영화의 특정 등의 영화의 매력을 느낄 수 있었다는 \n===============\nanswer string\t:남자 캐릭터의 상황이 나름 독특하지만 전체적으로 봤을 때는 그리 인상적이진 않다. 두 배우들은 열심히 노력하지만, 몇몇 재미를 제외하곤 딱히 기억에 남는 건 없다.\npredict string\t:남자 캐릭터의 성형이 나름 독특하지만 전체적으로 봤을 때는 그런 이성적이지 않다. 대 배우들은 열심히 노력하지만, 몇매 재미를 좋아하고 또한 기억에 남는 건 없다.\n===============\nanswer string\t:이 영화를 번째 보고 남기는 글.. 기대를 안하고 봤었던 영화였지만 지금까지도 내 삶에 큰 후유증을 주는 영화 만약 이시대사람들 즉 우리가 죽고 후세사람들이 우리와 소통을 원할\npredict string\t:이 영화를 반짝 보고 나가는 것.. 그대를 영화가 배았된 영화이지만 지금까지도 내 손에 큰 후어증을 지는 영화 많이 예상다사람도 좀 어리고 자고 한상사람들의 어려의 선타을 영화\n===============\nanswer string\t:단독 작품으론 나쁘지 않으나 오우삼감독의 연출 분위기가 너무 바뀌어서 거부감이 약간 생기는 작품이다.\npredict string\t:다들 작품으라 나쁘지 않으나 연인사간들이 엄청 분위기가 너무 바뀌어서 거부감이 있고 생기는 작품이다.\n===============\nanswer string\t:어휴...\npredict string\t:에휴...\n===============\nanswer string\t:가볍게 생각할 영화는 아니다\npredict string\t:강병규 성공한 영화는 아닌데\n===============\nanswer string\t:자꾸 해석하려 들지마라. 그냥 그대로 완벽한데\npredict string\t:자꾸 한성화를 들지마라. 그냥 그대로 완벽한다\n===============\nanswer string\t:악역의 연기가 빛났던 영화. 특히 그 창고에서 폭발시키는 분노\npredict string\t:아이유 웃기가 봤는데 영화. 특히 가 최고에서 폭발시키나 보네\n===============\nanswer string\t:갈팡질팡하는 주인공처럼 갈길을 못잡는 스토리\npredict string\t:갈팡질팡하는 주인것처럼 국가이 못잡는 스토리\n===============\nanswer string\t:평균 점!!!!!!\npredict string\t:포기 자!!!!!!\n===============\nanswer string\t:최악\npredict string\t:최악\n===============\nanswer string\t:잔인해요 마지막에 여자는 살 줄 알았음\npredict string\t:정우혁이 마지막에 언제는 살 줄 알았요\n===============\nanswer string\t:힐링이되었다다아아아\npredict string\t:헐리우드안드다아어요\n===============\nanswer string\t:근데 왜 원은 없는지......\npredict string\t:근데 왜 일은 아니지......\n===============\nanswer string\t:진짜 엄청 재밌게 봤던 기억이 나네요 아 옛날이여... 다시 보고 싶다.\npredict string\t:진짜 엄청 재밌게 봤던 기억에 나년이 왜 아니였음... 다시 보고 싶다.\n===============\nanswer string\t:오늘 봤는데 굿이네여 하지만사람들이별로없었는데 보러오세여\npredict string\t:오늘 봤는데 귀엽네요 하지만소리들이별로없었는데 별러우세요\n===============\nanswer string\t:그냥 쭉 웃김 제목도 히치콕영화 패러디 한거 같아서 재밌음\npredict string\t:그냥 쫌 없고 재밌다 한치크이후 프로디 한거 같아서 재밌음\n===============\nanswer string\t:원작소설도 쓰레기. 영화는 더 쓰레기.\npredict string\t:유제석시대 쓰레기. 영화는 다 쓰레기.\n===============\nanswer string\t:아직 안봤지만 밑에 평점 점준 세놈은 한놈이 적는건데 어딜가나 있고 왜 점만 주냐 관심종자새끼\npredict string\t:아직 안봤지만 많이 표정 주작 손나이 하늘이 지나가다 어딜갔네 이건 아 정말 존나 관심종자새끼\n===============\nanswer string\t:박정희 대통령의 거대한 업적과 그 중 한명의 이야기...\npredict string\t:박정희 대통령을 가대한 여자과 그 중 한명을 있었가...\n===============\nanswer string\t:재미 감동 시간가는줄 모르게한 흡입력!\npredict string\t:정말 군대 시간가는지 모르고한 화이링!\n===============\nanswer string\t:유영철 살인사건을 모티브로 만들어진 영화...\npredict string\t:양아치 사인시건을 모티브로 만들어준 에휴...\n===============\nanswer string\t:그래서 끝은 어쨌다고?\npredict string\t:그래서 끝은 어쨌다고?\n===============\nanswer string\t:신은 네 안에 있다\npredict string\t:살이 내 아에 없다\n===============\nanswer string\t:베드신말곤볼게없다공포영화맞는건가?\npredict string\t:백동산무가비가있다가필요해먹는건가?\n===============\nanswer string\t:뭐지...충무로 작가가 시나리오 쓴 것 같은 이 느낌은\npredict string\t:뭐지...충말로 작가가 시나리오 쓴 것 같은 이 느낌이\n===============\nanswer string\t:고아성 연기 왜그래요... 영어발음도 진짜 귀가 오그라들어서지금 생각해도 끔찍.. 내가 영어로 연기해도 저런 발음이겠지라고 생각은 들었음. 남자분은 그래도 나름 훈남캐스팅했더만\npredict string\t:김윤성 연기 연기랬요... 아역배우들 진짜 그고 연기력들어서좋고 생각해도 깜찌.. 내가 앞으를 연기해도 저런 배우연기자라고 생각이 들었음. 남자배우 그래도 나름 하는캐스팅한다면\n===============\n"
    }
   ],
   "source": [
    "predict_label = output[1].argmax(dim=2)\n",
    "\n",
    "print('===============')\n",
    "for i in range(answer_label.shape[0]):\n",
    "    predict_label[i][answer_label[i]==0]=0\n",
    "    answer_string = tokenizer.decode_sent(input_ids[i].detach().cpu().numpy(), answer_label[i].detach().cpu().numpy())\n",
    "    predict_string = tokenizer.decode_sent(input_ids[i].detach().cpu().numpy(), predict_label[i].detach().cpu().numpy())\n",
    "    #print('===============')\n",
    "    print('answer string\\t:'+ answer_string)\n",
    "    print('predict string\\t:' + predict_string)\n",
    "    print('===============')\n",
    "    "
   ]
  },
  {
   "cell_type": "markdown",
   "metadata": {},
   "source": [
    "# Single Sentence Inference"
   ]
  },
  {
   "cell_type": "code",
   "execution_count": 90,
   "metadata": {},
   "outputs": [],
   "source": [
    "sentence = [\"우리 오늘부터 커플 할까?\"]\n",
    "\n",
    "result = tokenizer.encode(sentence, max_char_length=50, return_attention_mask=True) #, return_tensors='pt')\n",
    "head_ids = result['head_ids']\n",
    "midtail_ids = result['midtail_ids']\n",
    "attention_masks = result['attention_masks']"
   ]
  },
  {
   "cell_type": "code",
   "execution_count": 93,
   "metadata": {
    "tags": []
   },
   "outputs": [],
   "source": [
    "input_ids = torch.Tensor(head_ids).type(torch.LongTensor).cuda()\n",
    "answer_label = torch.Tensor(midtail_ids).type(torch.LongTensor).cuda()  \n",
    "attention_mask = torch.Tensor(attention_masks).type(torch.LongTensor).cuda()  \n",
    "\n",
    "output = model(input_ids, attention_mask=attention_mask, token_type_ids=None, answer_label=answer_label)\n",
    "predict_label = output[1].argmax(dim=2)\n",
    "\n",
    "answer_string = tokenizer.decode_sent(input_ids[0].detach().cpu().numpy(), answer_label[0].detach().cpu().numpy())\n",
    "predict_string = tokenizer.decode_sent(input_ids[0].detach().cpu().numpy(), predict_label[0].detach().cpu().numpy())"
   ]
  },
  {
   "cell_type": "code",
   "execution_count": 94,
   "metadata": {
    "tags": []
   },
   "outputs": [
    {
     "output_type": "stream",
     "name": "stdout",
     "text": "우리 오늘부터 커플 할까?\n우래 오늘부터 커플 할까?\n"
    }
   ],
   "source": [
    "print(answer_string)\n",
    "print(predict_string)"
   ]
  },
  {
   "cell_type": "code",
   "execution_count": null,
   "metadata": {},
   "outputs": [],
   "source": []
  }
 ],
 "metadata": {
  "kernelspec": {
   "display_name": "horovod0.18.1-tf1.14.0-torch1.2.0-mxnet1.5.0-py3.6-cuda10.0",
   "language": "python",
   "name": "horovod0.18.1-tf1.14.0-torch1.2.0-mxnet1.5.0-py3.6-cuda10.0"
  },
  "language_info": {
   "codemirror_mode": {
    "name": "ipython",
    "version": 3
   },
   "file_extension": ".py",
   "mimetype": "text/x-python",
   "name": "python",
   "nbconvert_exporter": "python",
   "pygments_lexer": "ipython3",
   "version": "3.6.9-final"
  }
 },
 "nbformat": 4,
 "nbformat_minor": 4
}