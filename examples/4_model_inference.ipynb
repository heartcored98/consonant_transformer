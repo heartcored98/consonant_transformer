{
 "cells": [
  {
   "cell_type": "code",
   "execution_count": 1,
   "metadata": {},
   "outputs": [],
   "source": [
    "import sys\n",
    "sys.path.insert(0, '../')\n",
    "\n",
    "import transformers\n",
    "import torch.nn as nn\n",
    "from transformers import AlbertModel, AlbertConfig\n",
    "import torch\n",
    "import argparse\n",
    "import os\n",
    "import easydict\n",
    "from torch.utils.data import DataLoader, ConcatDataset\n",
    "import pyxis.torch as pxt\n",
    "\n",
    "from consonant.model.tokenization import NGRAMTokenizer\n",
    "from consonant.model.modeling import Consonant\n"
   ]
  },
  {
   "cell_type": "code",
   "execution_count": 2,
   "metadata": {
    "tags": []
   },
   "outputs": [],
   "source": [
    "def load_tokenizer_model(ckpt):\n",
    "    state = torch.load(ckpt)\n",
    "    tokenizer = NGRAMTokenizer(state['ngram'])\n",
    "\n",
    "    config = AlbertConfig(**state['config_dict'])\n",
    "    model = Consonant(config)\n",
    "    model.load_state_dict(state['model_state_dict'])\n",
    "    return tokenizer, model\n",
    "\n",
    "ckpt = '../output/comment_baseline_b390_half/ckpt-0000100.bin'\n",
    "tokenizer, model = load_tokenizer_model(ckpt)\n"
   ]
  },
  {
   "cell_type": "code",
   "execution_count": 3,
   "metadata": {},
   "outputs": [],
   "source": [
    "def val_dataloader(args):\n",
    "        \n",
    "    # We should filter out only directory name excluding all the *.tar.gz files\n",
    "    data_dir = os.path.join(args.pretrain_dataset_dir, 'val') \n",
    "    subset_list = [subset_dir for subset_dir in os.listdir(data_dir) if os.path.isdir(os.path.join(data_dir, subset_dir))]\n",
    "    train_dataset = ConcatDataset([pxt.TorchDataset(os.path.join(data_dir, subset_dir)) for subset_dir in subset_list])\n",
    "\n",
    "    # Very small dataset for debugging\n",
    "    # toy_dataset = Subset(train_dataset, range(0, 100)) # -> If you want to make 100sample toy dataset. \n",
    "\n",
    "    data_loader = DataLoader(\n",
    "        train_dataset,\n",
    "        batch_size=args.train_batch_size,\n",
    "        num_workers=args.num_workers,\n",
    "        pin_memory=True,\n",
    "        shuffle=False\n",
    "    )\n",
    "\n",
    "    return data_loader"
   ]
  },
  {
   "cell_type": "code",
   "execution_count": 4,
   "metadata": {},
   "outputs": [],
   "source": [
    "args = easydict.EasyDict({\n",
    "    \"pretrain_dataset_dir\": '../dataset/processed/ratings_3_100',\n",
    "    \"train_batch_size\": 1,\n",
    "    \"num_workers\": 0,\n",
    "})\n"
   ]
  },
  {
   "cell_type": "code",
   "execution_count": 5,
   "metadata": {},
   "outputs": [
    {
     "output_type": "execute_result",
     "data": {
      "text/plain": "Consonant(\n  (albert): AlbertModel(\n    (embeddings): AlbertEmbeddings(\n      (word_embeddings): Embedding(17579, 128, padding_idx=0)\n      (position_embeddings): Embedding(100, 128)\n      (token_type_embeddings): Embedding(1, 128)\n      (LayerNorm): LayerNorm((128,), eps=1e-12, elementwise_affine=True)\n      (dropout): Dropout(p=0, inplace=False)\n    )\n    (encoder): AlbertTransformer(\n      (embedding_hidden_mapping_in): Linear(in_features=128, out_features=512, bias=True)\n      (albert_layer_groups): ModuleList(\n        (0): AlbertLayerGroup(\n          (albert_layers): ModuleList(\n            (0): AlbertLayer(\n              (full_layer_layer_norm): LayerNorm((512,), eps=1e-12, elementwise_affine=True)\n              (attention): AlbertAttention(\n                (query): Linear(in_features=512, out_features=512, bias=True)\n                (key): Linear(in_features=512, out_features=512, bias=True)\n                (value): Linear(in_features=512, out_features=512, bias=True)\n                (dropout): Dropout(p=0, inplace=False)\n                (dense): Linear(in_features=512, out_features=512, bias=True)\n                (LayerNorm): LayerNorm((512,), eps=1e-12, elementwise_affine=True)\n              )\n              (ffn): Linear(in_features=512, out_features=2048, bias=True)\n              (ffn_output): Linear(in_features=2048, out_features=512, bias=True)\n            )\n          )\n        )\n      )\n    )\n    (pooler): Linear(in_features=512, out_features=512, bias=True)\n    (pooler_activation): Tanh()\n  )\n  (predictions): AlbertConsonantHead(\n    (LayerNorm): LayerNorm((128,), eps=1e-05, elementwise_affine=True)\n    (dense): Linear(in_features=512, out_features=128, bias=True)\n    (decoder): Linear(in_features=128, out_features=589, bias=True)\n  )\n)"
     },
     "metadata": {},
     "execution_count": 5
    }
   ],
   "source": [
    "valloader = val_dataloader(args)\n",
    "model.cuda()"
   ]
  },
  {
   "cell_type": "code",
   "execution_count": 6,
   "metadata": {},
   "outputs": [],
   "source": [
    "for batch in valloader:\n",
    "    input_ids = batch['head_ids'].type(torch.LongTensor).cuda()\n",
    "    answer_label = batch['midtail_ids'].type(torch.LongTensor).cuda()  \n",
    "    attention_mask = batch['attention_masks'].type(torch.LongTensor).cuda()  \n",
    "    \n",
    "    #print(input_ids.shape, attention_mask.shape,  answer_label.shape)\n",
    "    output = model(input_ids, attention_mask=attention_mask, token_type_ids=None, answer_label=answer_label)\n",
    "\n",
    "    break"
   ]
  },
  {
   "cell_type": "code",
   "execution_count": 7,
   "metadata": {},
   "outputs": [],
   "source": [
    "predict_label = output[1].argmax(dim=2)"
   ]
  },
  {
   "cell_type": "code",
   "execution_count": 8,
   "metadata": {
    "tags": []
   },
   "outputs": [
    {
     "output_type": "stream",
     "name": "stdout",
     "text": "===============\nanswer string\t:우아....새벽에보니까 무섭네 미스터리와에로스와 스릴러를 겸비한 영화!\npredict string\t:이이....시비이비니까 미시나 미사타리이이리시이 시리리리 기비히 이하!\n===============\n"
    }
   ],
   "source": [
    "print('===============')\n",
    "for i in range(answer_label.shape[0]):\n",
    "    predict_label[i][answer_label[i]==0]=0\n",
    "    answer_string = tokenizer.decode_sent(input_ids[i].detach().cpu().numpy(), answer_label[i].detach().cpu().numpy())\n",
    "    predict_string = tokenizer.decode_sent(input_ids[i].detach().cpu().numpy(), predict_label[i].detach().cpu().numpy())\n",
    "    #print('===============')\n",
    "    print('answer string\\t:'+ answer_string)\n",
    "    print('predict string\\t:' + predict_string)\n",
    "    print('===============')\n",
    "    "
   ]
  },
  {
   "cell_type": "code",
   "execution_count": null,
   "metadata": {},
   "outputs": [],
   "source": []
  }
 ],
 "metadata": {
  "kernelspec": {
   "display_name": "Python 3.6.10 64-bit ('env_electra': conda)",
   "language": "python",
   "name": "python361064bitenvelectraconda1ad35761db5241889e37482be0c5b23a"
  },
  "language_info": {
   "codemirror_mode": {
    "name": "ipython",
    "version": 3
   },
   "file_extension": ".py",
   "mimetype": "text/x-python",
   "name": "python",
   "nbconvert_exporter": "python",
   "pygments_lexer": "ipython3",
   "version": "3.6.10-final"
  }
 },
 "nbformat": 4,
 "nbformat_minor": 4
}