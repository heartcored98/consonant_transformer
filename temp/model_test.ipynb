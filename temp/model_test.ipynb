{
 "cells": [
  {
   "cell_type": "code",
   "execution_count": 3,
   "metadata": {},
   "outputs": [],
   "source": [
    "import sys\n",
    "sys.path.insert(0, '../')\n",
    "\n",
    "import transformers\n",
    "import torch.nn as nn\n",
    "from transformers import AlbertModel, AlbertConfig\n",
    "import torch\n",
    "import argparse\n",
    "import os\n",
    "import easydict\n",
    "from torch.utils.data import DataLoader, ConcatDataset\n",
    "import pyxis.torch as pxt\n",
    "\n",
    "from consonant.model.tokenization import NGRAMTokenizer\n",
    "from consonant.model.modeling import Consonant\n"
   ]
  },
  {
   "cell_type": "code",
   "execution_count": 4,
   "metadata": {
    "tags": []
   },
   "outputs": [],
   "source": [
    "def load_tokenizer_model(ckpt):\n",
    "    state = torch.load(ckpt)\n",
    "    tokenizer = NGRAMTokenizer(state['ngram'])\n",
    "\n",
    "    config = AlbertConfig(**state['config_dict'])\n",
    "    model = Consonant(config)\n",
    "    model.load_state_dict(state['model_state_dict'])\n",
    "    return tokenizer, model\n",
    "\n",
    "ckpt = '../output/comment_baseline_b390_savecheck/ckpt-0000100.bin'\n",
    "tokenizer, model = load_tokenizer_model(ckpt)\n"
   ]
  },
  {
   "cell_type": "code",
   "execution_count": 5,
   "metadata": {},
   "outputs": [],
   "source": [
    "def val_dataloader(args):\n",
    "        \n",
    "    # We should filter out only directory name excluding all the *.tar.gz files\n",
    "    data_dir = os.path.join(args.pretrain_dataset_dir, 'val') \n",
    "    subset_list = [subset_dir for subset_dir in os.listdir(data_dir) if os.path.isdir(os.path.join(data_dir, subset_dir))]\n",
    "    train_dataset = ConcatDataset([pxt.TorchDataset(os.path.join(data_dir, subset_dir)) for subset_dir in subset_list])\n",
    "\n",
    "    # Very small dataset for debugging\n",
    "    # toy_dataset = Subset(train_dataset, range(0, 100)) # -> If you want to make 100sample toy dataset. \n",
    "\n",
    "    data_loader = DataLoader(\n",
    "        train_dataset,\n",
    "        batch_size=args.train_batch_size,\n",
    "        num_workers=args.num_workers,\n",
    "        pin_memory=True,\n",
    "        shuffle=False\n",
    "    )\n",
    "\n",
    "    return data_loader"
   ]
  },
  {
   "cell_type": "code",
   "execution_count": 6,
   "metadata": {},
   "outputs": [],
   "source": [
    "args = easydict.EasyDict({\n",
    "    \"pretrain_dataset_dir\": '../dataset/processed/ratings_3_100',\n",
    "    \"train_batch_size\": 128,\n",
    "    \"num_workers\": 0,\n",
    "})\n"
   ]
  },
  {
   "cell_type": "code",
   "execution_count": 9,
   "metadata": {},
   "outputs": [
    {
     "output_type": "execute_result",
     "data": {
      "text/plain": "Consonant(\n  (albert): AlbertModel(\n    (embeddings): AlbertEmbeddings(\n      (word_embeddings): Embedding(17579, 128, padding_idx=0)\n      (position_embeddings): Embedding(100, 128)\n      (token_type_embeddings): Embedding(1, 128)\n      (LayerNorm): LayerNorm((128,), eps=1e-12, elementwise_affine=True)\n      (dropout): Dropout(p=0, inplace=False)\n    )\n    (encoder): AlbertTransformer(\n      (embedding_hidden_mapping_in): Linear(in_features=128, out_features=512, bias=True)\n      (albert_layer_groups): ModuleList(\n        (0): AlbertLayerGroup(\n          (albert_layers): ModuleList(\n            (0): AlbertLayer(\n              (full_layer_layer_norm): LayerNorm((512,), eps=1e-12, elementwise_affine=True)\n              (attention): AlbertAttention(\n                (query): Linear(in_features=512, out_features=512, bias=True)\n                (key): Linear(in_features=512, out_features=512, bias=True)\n                (value): Linear(in_features=512, out_features=512, bias=True)\n                (dropout): Dropout(p=0, inplace=False)\n                (dense): Linear(in_features=512, out_features=512, bias=True)\n                (LayerNorm): LayerNorm((512,), eps=1e-12, elementwise_affine=True)\n              )\n              (ffn): Linear(in_features=512, out_features=2048, bias=True)\n              (ffn_output): Linear(in_features=2048, out_features=512, bias=True)\n            )\n          )\n        )\n      )\n    )\n    (pooler): Linear(in_features=512, out_features=512, bias=True)\n    (pooler_activation): Tanh()\n  )\n  (predictions): AlbertConsonantHead(\n    (LayerNorm): LayerNorm((128,), eps=1e-05, elementwise_affine=True)\n    (dense): Linear(in_features=512, out_features=128, bias=True)\n    (decoder): Linear(in_features=128, out_features=589, bias=True)\n  )\n)"
     },
     "metadata": {},
     "execution_count": 9
    }
   ],
   "source": [
    "valloader = val_dataloader(args)\n",
    "model.cuda()"
   ]
  },
  {
   "cell_type": "code",
   "execution_count": 10,
   "metadata": {},
   "outputs": [],
   "source": [
    "for batch in valloader:\n",
    "    input_ids = batch['head_ids'].type(torch.LongTensor).cuda()\n",
    "    answer_label = batch['midtail_ids'].type(torch.LongTensor).cuda()  \n",
    "    attention_mask = batch['attention_masks'].type(torch.LongTensor).cuda()  \n",
    "    \n",
    "    #print(input_ids.shape, attention_mask.shape,  answer_label.shape)\n",
    "    output = model(input_ids, attention_mask=attention_mask, token_type_ids=None, answer_label=answer_label)\n",
    "\n",
    "    break"
   ]
  },
  {
   "cell_type": "code",
   "execution_count": 11,
   "metadata": {},
   "outputs": [],
   "source": [
    "predict_label = output[1].argmax(dim=2)"
   ]
  },
  {
   "cell_type": "code",
   "execution_count": 13,
   "metadata": {
    "tags": []
   },
   "outputs": [
    {
     "output_type": "stream",
     "name": "stdout",
     "text": "===============\nanswer string\t:우아....새벽에보니까 무섭네 미스터리와에로스와 스릴러를 겸비한 영화!\npredict string\t:아아....사바아바니까 마사나 마사타리아아라사아 사리라라 가비하 아하!\n===============\nanswer string\t:재미있음\npredict string\t:자마아아\n===============\nanswer string\t:똥폼잡는것과 진짜 멋있는건 다르다 이것이 허세없는 멋이다.\npredict string\t:따파자나가가 자짜 마아나가 다라다 아가아 하사아나 마아다.\n===============\nanswer string\t:그냥 챔피언십 나 봐라\npredict string\t:가나 차파아시 니 바라\n===============\nanswer string\t:어이없었다..강리나가 아까워\npredict string\t:아아아아다..가리나가 아까아\n===============\nanswer string\t:경쾌한 음악과 대비되는 날 것 그대로의 이야기,\npredict string\t:가카하 아아가 디바다나 나 가 가다라아 아아가,\n===============\nanswer string\t:당시 손가락 터치는 명장면\npredict string\t:다사 사가라 타차나 마자마\n===============\nanswer string\t:후반부를 느끼기에 초중반부는 너무 건조하잖아.\npredict string\t:하바바라 나까가아 차자바바나 나마 가자하자아.\n===============\nanswer string\t:오늘 에서 하더라\npredict string\t:아나 아시 하다리\n===============\nanswer string\t:빈 디젤표 허세 액션 보기 전부터 각본은 바라지 않았지만 액션만 봐도 그닥... 내 취향은 아님\npredict string\t:바 다자파 하사 아시 바가 자바타 가바아 바라자 아이자마 아사마 바다 기다... 나 차하아 아나\n===============\nanswer string\t:검둥이 겨털 개혐오!!!!\npredict string\t:가다이 가타 가히아!!!!\n===============\nanswer string\t:키예슬로프스키 감독 영화는 제목부터가 반은 먹고 들어간다\npredict string\t:카아사라파사카 기다 이하나 자마바타가 비아 마가 다아가다\n===============\nanswer string\t:그런 여성은 세기 잘 나가는 커리어 우먼으로 살아야 하는 타입이다. 시대와 맞지 않는 아내를 선택한 남자... 의 잘못은 아니다. 그는 많이 인내했다.... 그녀는 세기 추중반\npredict string\t:가라 아시이 사기 지 나가나 카라아 아마아라 사아아 하나 타이아다. 사다이 마지 아나 아나라 시타하 나자... 아 자마이 아나다. 가나 마아 아나하다.... 가나니 사가 차자비\n===============\nanswer string\t:왜이렇게 평점이 낮아요.난 재미있게 봤는데 프라이데이!\npredict string\t:아아리가 파자아 나이아.니 자미이가 비니다 파라아다아!\n===============\nanswer string\t:아드레날린 과다복용.\npredict string\t:아다라나라 기다비이.\n===============\nanswer string\t:잔잔하지만 잔잔함속에 먼가있는듯 없는듯~ 그게 이영화다 느낌있게봤당\npredict string\t:자자하자마 자자히사이 마가아나다 아나다~ 가가 아아하다 나까아가바다\n===============\nanswer string\t:나도 이런 사랑 해봤으면... 다시는 감독님 영화 못보겠네요.\npredict string\t:나다 아라 사라 하바아마... 다사나 기다나 이하 마바가나아.\n===============\nanswer string\t:최고다 필립스...\npredict string\t:차가다 파라사...\n===============\nanswer string\t:영상, 음악, 전체적인 분위기가 너무 멋있다\npredict string\t:아사, 아아, 자차자아 바아가가 나마 마아다\n===============\nanswer string\t:넘 좋았어요. 자폐증을 다시 보게 되는 계기를 만들어줫어요.\npredict string\t:나 지아아아. 지파자아 다시 바가 다나 가가라 마다이지아아.\n===============\nanswer string\t:일가친척 모조리 뇌물 받아 처먹고 들통나니까 입막음과 동시에 동정표를 노리고 법의 심판을 피하여 다이빙한 벼노인을 미화한 희대의 사기극.\npredict string\t:아가차차 마자라 나마 바아 차마가 다티나니까 아마아가 다사아 다자파라 나라가 비아 사파아 파하아 다아바하 바니아아 마하하 하다이 사가가.\n===============\nanswer string\t:사형집행전 존의 대사가 떠오른다 모든것이 지쳤다고 말하는 존의 모습을 보고 눈물이났다\npredict string\t:사하지하자 지아 다시가 따아라디 마다가아 자차다가 미하나 지아 마사아 바가 나마아나디\n===============\nanswer string\t:남자영화네....멋있다 배우도 대사도 분위기도\npredict string\t:나자아하나....마아다 바아다 다사다 바아가다\n===============\nanswer string\t:시간때우기용. 별로 와닿지 않는다. 전체적인 교훈도 없다. 그냥 제목 그대로다.\npredict string\t:사가따아가아. 비라 아다자 아나다. 자차자아 가하다 아다. 가나 자마 기다라디.\n===============\nanswer string\t:만들다 만것같은 이 설레임은 뭐야... 결말 쩔어\npredict string\t:마다다 마가가아 아 사라아아 마아... 가마 짜아\n===============\nanswer string\t:예성과 견자단의 결투는 길이길이 기억되리.\npredict string\t:아사가 가지다이 기티나 가아가아 가아디라.\n===============\nanswer string\t:꿈에 나올까 무섭다\npredict string\t:까아 나아까 마사다\n===============\nanswer string\t:보고나서가슴이먹먹해졌다\npredict string\t:바가나사가시아마마하자다\n===============\nanswer string\t:귀신들의 비쥬얼이 무척 신선하다. 유리문이 내려와 반으로 갈라져 죽는 모습은 왠지 몇번을 돌려보게 된다.\npredict string\t:가사다이 비자아이 마차 사사하다. 아라미이 나라아 비아라 가라자 자나 마사아 아자 마바아 다라바가 다다.\n===============\nanswer string\t:왜 점은 없는 것인가. 징그러울 정도로 재미없는 드라마\npredict string\t:아 지아 아나 기이기. 지기라아 자다리 지미아나 다라마\n===============\nanswer string\t:사실관계에 대한 조사가 진짜 이정도밖에는 이루어지지 않는다니???? 이게 진짜 가능하기나 한일인지... 빡침이 가득한 영화.. 원장이나 클라라나.. 숨막히게 짜증나고 엔딩은 더\npredict string\t:사사가가아 디하 자사가 자짜 아자다비이나 아라아자자 아나다나???? 아가 자짜 가나히가나 하아이자... 빠차아 기다하 이하.. 아지아나 카라라나.. 사마하가 짜자니가 아다이 다\n===============\nanswer string\t:음.. 단지 이 영화를 영화다움으로만 본다면 걸작이라고 생각한다. 개연성이 다소 부족하지만 화려한 영상미와 연기력에는 눈을 뗄 수가 없었다. 하지만 이 영화를 현실로 착각하면 \npredict string\t:아.. 다자 아 이하라 이하다아아라마 바다마 가자아리가 사가히다. 가아시아 다사 바자하자마 하라하 아사마아 이가라아나 나아 따 사가 아아다. 하자마 아 이하라 하시라 차가하마 \n===============\nanswer string\t:봤는데 완전 소름 쫘~~~ 실화 기도 하고 소녀 가 불쌍 했음 마지막 에 그소녀는 악영씨었 다는 충격 받고 타죽음\npredict string\t:바나다 아지 사리 짜~~~ 사하 가다 하가 사나 가 바싸 하아 마자마 아 가사나나 아아싸아 다니 차가 바가 타지아\n===============\nanswer string\t:하~품\npredict string\t:하~파\n===============\nanswer string\t:호두님 말 공감\npredict string\t:하다나 마 가가\n===============\nanswer string\t:서부영화 하면 떠오르는 그음악..라스트씬의 명의 대결에 나름 충격받았음..\npredict string\t:사바아하 하마 띠이라나 가아아..라사타씨아 마아 다가아 나라 차기바아아..\n===============\nanswer string\t:두번째 에피소드에 나오는 여자 매력적이다\npredict string\t:디바찌 아파시다이 나아나 아자 마라자이다\n===============\nanswer string\t:평점 너무 낮아서 만점\npredict string\t:파자 나마 나아시 마자\n===============\nanswer string\t:초중반 조금은 어설퍼도 나름의 흥미진진함에 호감을 갖고 지켜봤지만 이런 너그런 마음을 배신하는 갈수록 엉망진창인 진행\npredict string\t:차자바 자가아 이사파다 나라아 하마자자하아 하가아 가가 자카비자마 아라 나가라 마아이 바사히나 가사라 아마자차아 자하\n===============\nanswer string\t:굳굳굳굳!!!!\npredict string\t:가가가가!!!!\n===============\nanswer string\t:왜이제상영안하나요?\npredict string\t:아아자사아아하나이?\n===============\nanswer string\t:괜찮은것같은데 !!\npredict string\t:가차아가가아다 !!\n===============\nanswer string\t:이광기랑 이진우는 친구야\npredict string\t:아가가라 아지아나 차가아\n===============\nanswer string\t:맨 밑에 분 글 참 잼네..\npredict string\t:마 마아 바 가 차 자나..\n===============\nanswer string\t:이거 은근 웃긴다 요즘 개봉했음 흥행좀 했을텐데\npredict string\t:아가 아가 아가디 아자 가바하아 하하자 하아타다\n===============\nanswer string\t:남자지만 딸을 잃었을때의 엄마의 감정이 이해가 간다 그리고 가수는 노래만 부르자\npredict string\t:나자자마 따아 이아이따아 아마이 가자아 이하가 기다 가라가 가사나 나라마 바라자\n===============\nanswer string\t:반전을 예상하지 않아서 신선했고 관점의 다양함을 알게 되었다.\npredict string\t:바자아 아시하자 아아시 사사하가 가자아 다아하아 아기 다아다.\n===============\nanswer string\t:늘그막에 고생이 많수다\npredict string\t:나가마아 가시이 마사다\n===============\nanswer string\t:당시 엄청난 특수효과 어쩌고하며 무척 떠들었던 기억이..명견실버가 나음.\npredict string\t:다사 아차나 타시하가 아짜가하마 마차 따다아다 가아아..마가사바가 나아.\n===============\nanswer string\t:이상한 살인동기...날려쓴 각본...예상돼는 다음장면...여름에 한국공포영화를 보는듯\npredict string\t:아사하 사이다가...나라싸 가바...아사다나 다아자마...아라아 하가가파아하라 바나다\n===============\nanswer string\t:소설 앵무새 죽이기를 상상했으나 뜻밖의 큰 감동\npredict string\t:사사 아마사 지아가라 사사하아나 따바아 카 기다\n===============\nanswer string\t:일딴 강지환오빠가 너무 연기잘한거 같고 내용도 너무 좋았어요\npredict string\t:아따 가자하아빠기 나마 아기자하가 가가 나아다 나마 지아아아\n===============\nanswer string\t:탄탄한 구성으로 이루어진 참신한 상상과 스케일이 인상적이었던 한편 단순히 미래의 상상으로만 그칠 내용이 아닌 이미 현실에서도 기계에 익숙해져 인간의 능력이 퇴화해가는 듯하여 다\npredict string\t:타타하 가시아라 이라아자 차사하 사시기 시카아아 아시자아아다 하파 다시하 마라아 사사아라마 가차 나아아 아나 아마 하사아사다 가가아 아시하자 아가아 나라아 타하하기나 다하아 다\n===============\nanswer string\t:영화가 쭉 진행되는 과정에 비해 엔딩에서 약간의 허무함이 있었지만 색다른 공포를 느낄수 있었다. 조용하게 진행되다가 갑자기 닥쳐오는 어떤 사연과 서글픔 이 있었달까.. 생각보다\npredict string\t:이하가 짜 자하다나 가자아 바히 아디아시 아가아 하마하아 아이자마 사다라 가피라 나끼사 아아다. 지아하가 자하다다가 가자가 다차아나 아따 사아가 사가파 아 아아다까.. 사가바디\n===============\nanswer string\t:다시 보고 싶다.\npredict string\t:다사 바가 사다.\n===============\nanswer string\t:다운받아보는것도 정말 포인트가 아깝긴첨이엇...\npredict string\t:다아바아바나가다 자마 파아타가 아까가차아아...\n===============\nanswer string\t:와.. 로보캅 멋있네요...\npredict string\t:아.. 라비카 마아나아...\n===============\nanswer string\t:좋다. 치장없이 별것없이 날것그대로 긴장을 만들어냈다.마지막 삐그덕소리와 주인공의 놓지 못한 두려운 눈빛은 본인의 오해에 대한 모든 의미를 담고있는듯 싶었다.여주 짱나서 마이너\npredict string\t:자다. 차자이아 비가아아 나가가다라 가자아 마다이나다.마자마 빠가다사라아 지아가아 나자 마하 디라아 나바아 비아아 이하아 다하 마다 아마라 디가아나다 사이다.아지 짜나사 마아나\n===============\nanswer string\t:시간이 흘러도 질리거나 올드하지 않은 작품 짱짱무비\npredict string\t:사가아 하라다 자라가나 아다하자 아아 자파 짜짜마바\n===============\nanswer string\t:삶의 희로애락을 가득 닮은 영화. 꿈과 현실간의 갈등을 겪고 있는 남편과 아내, 현실적인 부부간의 갈등과 노부모. 하지만, 현실들사이에 숨어있는 소중함을 보지 못하는 우리들. \npredict string\t:사아 하라아라아 기다 다이 아하. 까가 하사가아 가다이 가가 아나 나파가 아니, 하사자아 바바기아 기다가 나바마. 하자마, 하사다사아아 사아아나 사자하아 바자 미하나 아라다. \n===============\nanswer string\t:이게뭐야\npredict string\t:아가마아\n===============\nanswer string\t:보지마세요 진짜 별로임\npredict string\t:바자마사아 자짜 바라아\n===============\nanswer string\t:요즘엔 제목은 이따구로 지어놓고는 까보면 아무것도 없는 영화들이 많이나오네\npredict string\t:아자아 지미이 이띠가라 지아나가나 까바마 아마가다 아나 이하다아 마아나아나\n===============\nanswer string\t:한이 메인으로 나왔다는것 자체에 높은점수를 주고싶다. 점대 영화임\npredict string\t:하아 마아아리 나아다나가 자차아 나아자사라 지가사다. 자다 이하아\n===============\nanswer string\t:설정과 도입 부분 이후 기하급수적으로 흥미 반감...\npredict string\t:사자가 다이 바바 이하 가하가사자아라 하마 바가...\n===============\nanswer string\t:이영화를 봤다면 당신은 정말 행운아 임에 틀림이 없다 이렇게 감동적인 영화는 오랜만이다 개인적으로 군대를 갔다온후 보면 더 의미 있게 볼수있을것같다 부모님의 마음 가장 아버지로\npredict string\t:아아하라 바다마 다사이 자마 하아아 아아 타리아 아다 아라가 가디자아 이하나 이라마이다 가이지아라 기다라 가다아하 바마 다 아마 아가 바사아아가가다 바마나아 마이 가자 아바자라\n===============\nanswer string\t:바람의 파이터가실화여서 더 영감이간다여자하고도잘됬으면 그래도배우들의 연기력도좋고최배달이라는분에게 존경심을표합니다.\npredict string\t:바라아 파아타가시하아시 다 아가아가다아지하기디자다아마 가라다비아디아 아기라다지가차바디아라나바아기 자기사아파하니다.\n===============\nanswer string\t:평점이 생각보다 높네여\npredict string\t:파자아 사가바다 나나아\n===============\nanswer string\t:오인혜 때문에 훑어봄.\npredict string\t:아아하 따마이 히아바.\n===============\nanswer string\t:재밌네용오랜만에보니\npredict string\t:자마나아아라미아비나\n===============\nanswer string\t:대단한 내인생의 디즈니명작!요즘나온 타잔보다 훌륭하다!\npredict string\t:다다하 나아시이 다자니마자!아자나아 타자비다 하라하디!\n===============\nanswer string\t:기발한 스토리에 완벽한 각본!!\npredict string\t:가바하 사타라아 아바하 가바!!\n===============\nanswer string\t:감독은 조선족을 만나보지도 않고 그냥 오로지 상상력에 의존해 시나리오를 썼나 보다. 모든게 껄끄럽고 그저 그렇다.\npredict string\t:기다이 자시자아 미나바자다 아가 가나 이라자 사사라아 아자하 사나라아라 싸나 바다. 마다가 까까라가 가자 가라다.\n===============\nanswer string\t:리얼리티면에서 몰입도 가히 최고!\npredict string\t:라아라타마아시 마아다 가하 차가!\n===============\nanswer string\t:휴잭맨과 아이유의 유쾌한 일본유랑기\npredict string\t:하자마가 아아아이 아카하 아바아리가\n===============\nanswer string\t:년 아일랜드의실화를 바탕으로 만들어진 이 영화를 보는 동안, 현재 대한민국이 생각나는건 왜일까? 어쩌면, 년의 아일랜드보다 더 희망이없는건 아닐까?\npredict string\t:나 아아라다아사히라 바타아리 마다아지 아 이하라 바나 다아, 하자 다하마가아 사기나나가 아아까? 아짜마, 나이 아아라다바다 다 하마아아나가 아나까?\n===============\nanswer string\t:적절한 감동까지 선사한 무진장 깔끔한 액션영화. 그래 이런걸 원했지.\npredict string\t:자자하 기다까자 시사하 마자자 까까히 아사아하. 가리 아리가 아하자.\n===============\nanswer string\t:굳이다!!\npredict string\t:가아다!!\n===============\nanswer string\t:뭐야 이거 좀비야 죽어라 안....\npredict string\t:마아 아가 자바이 지아라 아....\n===============\nanswer string\t:웃음코드는 어디에??\npredict string\t:아아카다나 아다아??\n===============\nanswer string\t:마음에 듭니다.\npredict string\t:마아아 다나다.\n===============\nanswer string\t:말이 필요없습니다. 보고 또 보고 또 보고 최고!\npredict string\t:마아 파아아시나다. 바가 따 바가 따 바가 차가!\n===============\nanswer string\t:뒷좌석환희해외팬들의환호와음악이너무좋아서점줌. 음악이영화살렸네\npredict string\t:다자사하하하아파다아하하아아아아나마자아사자자. 아아아아하사라나\n===============\nanswer string\t:당췌 뭐니....돈아까워..\npredict string\t:다차 마나....다아까아..\n===============\nanswer string\t:독특한 로맨스. 히스클리프의 마음을 조금만 더 보여줬더라면 좋았을텐데.\npredict string\t:다타하 라마사. 하사카라파이 마아아 지가마 다 바아자다라마 지아아타다.\n===============\nanswer string\t:정말 재밌습니다.베리굿!!!!!!!!!!!!!\npredict string\t:지마 지마사나다.비리가!!!!!!!!!!!!!\n===============\nanswer string\t:많은 것들을 느낄 수 있는 영화.\npredict string\t:마아 가다이 나까 사 아나 아하.\n===============\nanswer string\t:조재현은 코미디에는 맞지 않는 것 같다..\npredict string\t:자자하아 카마다이나 마자 아나 가 기다..\n===============\nanswer string\t:배우들의 한창때 모습 보는 것 외엔 없다. 정락희,심혜진 슴가 노출.\npredict string\t:바아다아 하차따 마사 바나 가 아아 아다. 자라하,시하자 사가 나차.\n===============\nanswer string\t:영화속에 나오는 자연은 아름답지만 너무 잔잔한 영화\npredict string\t:이하사이 나아나 지이아 아라다자마 나마 자자하 이하\n===============\nanswer string\t:마음을 움직이는 감독의 연출력과 배우들의 연기 모든 것이 좋았다. 용서와 용기..\npredict string\t:마아아 아지아나 기다이 아차라가 바아디이 아가 마다 가아 지이다. 아사이 아기..\n===============\nanswer string\t:권선징악이란말이 이영화에선 모순\npredict string\t:가사자아아라미이 아이하아시 마사\n===============\nanswer string\t:정말 거짓말안치고 번봤다\npredict string\t:자마 가자미아차가 바바다\n===============\nanswer string\t:놀란 영화가 아니라 알 파치노 영화\npredict string\t:나라 아하가 아니라 아 파차나 이하\n===============\nanswer string\t:아 무섭잖아!!!\npredict string\t:아 마사자아!!!\n===============\nanswer string\t:재밌게 보고 있어요!!월요커플 짱!!\npredict string\t:자마가 바가 아아아!!아아카파 짜!!\n===============\nanswer string\t:대체 이게 뭐냐고 보는내내 뭔가 나오려나 했더니 그냥 그렇게 끝나버리다니 어이상실\npredict string\t:다차 아가 미나가 바나나나 마가 나아라나 하다나 가나 가라가 까나바라다나 아이사사\n===============\nanswer string\t:개재밌음! 러시아여자 죽은건아쉽\npredict string\t:가자미아! 리사아아지 지아가아시\n===============\nanswer string\t:하비에르 하르뎀의 표정은 연기라기 보다는 걸작, 만능열쇠. 신의 은총이다.\npredict string\t:하바아라 하라다이 파자아 이가라가 바다나 가자, 마나아사. 사아 아차아다.\n===============\nanswer string\t:정말 노출의 화제보다 영화 안의 그림과 음악의 어올림 배우들의 무게감.. 아름답다. 감독과 배우들의 고민. 소품의 작은 배치마저도 주의 깊게 보게된다\npredict string\t:자마 나차아 하지비디 이하 아아 가라가 아아아 아아리 바아다이 마가가.. 아라디다. 기다가 바아다이 가마. 사파이 지아 바차마자다 지아 가가 바가다다\n===============\nanswer string\t:그냥 이은주와의 안타까운 사랑으로 끝났어도 충분이 괜찮은 영화인데 다시 태어나고 다시만나고 서로 알아보고..뭐 영화는 영화니까 그런건 다 배제하려해도 여현수가 이은주와는 전혀 \npredict string\t:가나 아아지아아 이타까아 사라아라 까나아다 차바아 가차아 이하아다 다사 타아나가 다시마나가 사리 아아바가..미 이하나 이하나까 가라가 다 바자하라하다 이하사가 아이자아나 자하 \n===============\nanswer string\t:아무리 정서차가 있더라도... 쓰~읍\npredict string\t:아마라 자사차가 이다라다... 싸~아\n===============\nanswer string\t:무신론자와 유신론자의 대결구도라는 컨셉은 좋았고 영화 중반까지는 그것을 충실히 보여주었으나 어느순간부터 개독의 선동물로 전향해버리는 전형적인 개독선동물\npredict string\t:마사라자아 아사리자아 다가가다라나 카사이 지아가 아히 자바까자나 가가아 차사하 바아지아아나 아니사가바타 기다이 사다미라 자하하비라나 자하자아 가다사다마\n===============\nanswer string\t:제목 한 번 잘 지었다. 숨 막히고 답답하고 우중충하지만 거부할 수 없는 영화\npredict string\t:자마 하 바 자 지이다. 사 마하가 다다하가 아자차히자마 가비하 사 아나 이하\n===============\nanswer string\t:영화가 아니라 드라마\npredict string\t:이하가 아니라 다라마\n===============\nanswer string\t:홍콩영화의 내리막길이 본격적으로 열리면서 나온 대표적인 영화\npredict string\t:하카아하아 나라미가아 바가자아리 아라마사 나아 다파자아 이하\n===============\nanswer string\t:네 주인공의 연기력은 모두 뛰어나지만 흥미롭지 않은 내러티브가 아쉽다.\npredict string\t:나 지아가아 아기라아 마다 따아나자마 하마라자 아아 나라타바기 아사다.\n===============\nanswer string\t:하도 망작이래서 궁금해서 돈내고 봤는데 한분보다가 보는게 너무 힘들어서 다 못봤네요 이건진짜 돈받으면서 봐야합니다 눈과정신이 괴로운 영화\npredict string\t:하다 마자아라사 가가하사 다나가 바나다 하바바다가 바니가 나마 하다아시 다 마바나아 아가자짜 디바아마사 바아하나다 나가자사아 가라아 이하\n===============\nanswer string\t:미친 이게 무슨 영화야 이해도 안되고 급작스럽게 엔딩\npredict string\t:마차 아가 마사 이하아 이하다 아다가 가자사라가 아다\n===============\nanswer string\t:평점에낚여서 본거지만 놀라울정도로 재미지루짜증바로삭제함 점수어이없음\npredict string\t:파자아나아시 바기자마 나라아자다라 자마자리짜자바라사자하 자사아아아아\n===============\nanswer string\t:작은경민올림.만점이요\npredict string\t:지아가마아라.마자아아\n===============\nanswer string\t:이건 공포영화도 뭣도 아니다. 오직 베리의 완소얼굴만 보임\npredict string\t:아가 가파아하다 마다 아나다. 아자 바라아 아사아가마 바아\n===============\nanswer string\t:역시 매즈 미켈슨이다 교회에서 뒤돌면서 보여준 눈빛 너무 가슴 먹먹했다...\npredict string\t:아시 마자 마카사이다 가하아시 다다마사 바아지 나바 나마 가사 마마하다...\n===============\nanswer string\t:약 시간동안 내가 뭘 본건지... 고은누나 얼굴만 본듯\npredict string\t:아 사가다이 나가 마 바가자... 가아나나 아가마 바디\n===============\nanswer string\t:악 탈출편 진짜 좋아 완전 내 스타일 이걸 왜 이제야 봤을까 편은 병맛 같은것만 다 나왔으면\npredict string\t:아 타차파 자짜 지아 아자 나 사타아 이가 아 아자아 바아까 파이 바마 가아기마 다 나아아마\n===============\nanswer string\t:억지로 짜맞춘 느낌 그리고 한여자애가 왜갑자기 나타나서 스토리 완전웃겨요\npredict string\t:아자라 짜마차 나까 가라가 하이지아가 이가자가 니타니사 사타라 아자아가아\n===============\nanswer string\t:최송현 너무 연기 못하네요. 보다가 최송현 때문에 열받아서 끔\npredict string\t:차사하 나마 아기 미하나아. 바다가 차사하 따마이 이바아사 까\n===============\nanswer string\t:성룡하고 이연걸 때문에 본영화\npredict string\t:사라하가 아아가 따마이 바아하\n===============\nanswer string\t:년대 나왔으면 좋았을 만한 영화\npredict string\t:나다 나아이마 지이아 마하 아하\n===============\nanswer string\t:고등학교 학년때 접한 영화. 이 영화를 보고 관심 없었던 근 현대사를 들여다보았다. 아나키즘에 관련된 학술 자료와 서적 등을 미친듯이 찾아 읽었고 가치관의 형성에도 결정적인 역\npredict string\t:가다하가 하나따 자하 아하. 아 아하라 바가 가사 아아다 가 하다사라 다아다비아다. 아나카자아 가라다 하사 자라아 사자 다아 마차다아 차아 아아가 가차가아 하사아다 가자자아 아\n===============\nanswer string\t:종려시 때문에..\npredict string\t:자라사 따마아..\n===============\nanswer string\t:이건 진짜 희대의 쓰래기. 평점 높게준 들은 배우보고 해해해 하는놈들\npredict string\t:아가 자짜 하다이 싸라가. 파자 나가자 다이 바아바기 하하하 하나나다\n===============\nanswer string\t:거 참 재밌는 영화균\npredict string\t:가 차 자마나 이하가\n===============\nanswer string\t:극장에서 여간 하면 잘 안조는 편인데...\npredict string\t:가자이시 이가 히마 자 아지나 파아다...\n===============\nanswer string\t:예수님의말씀이깃든영화라면점을당연히드려야죠\npredict string\t:아사나아마싸아가다아하라마자이다아하다라아자\n===============\nanswer string\t:스토리가 영 아니네요.............액션은 볼만함.........\npredict string\t:사타라가 아 아니나아.............아사이 비미하.........\n===============\nanswer string\t:훈훈한게 좋앗다\npredict string\t:하하하가 지이다\n===============\nanswer string\t:매우 지루한 와중에 간간히 터지는 실소.. 그뿐이다. 전하려는 메시지가 무엇일까 잘 모르겠지만..\npredict string\t:마아 자리하 아지아 가가하 타자나 사사.. 가빠아다. 자하라나 마사자가 마아아끼 자 마라가자마..\n===============\n"
    }
   ],
   "source": [
    "print('===============')\n",
    "for i in range(answer_label.shape[0]):\n",
    "    predict_label[i][answer_label[i]==0]=0\n",
    "    answer_string = tokenizer.decode_sent(input_ids[i].detach().cpu().numpy(), answer_label[i].detach().cpu().numpy())\n",
    "    predict_string = tokenizer.decode_sent(input_ids[i].detach().cpu().numpy(), predict_label[i].detach().cpu().numpy())\n",
    "    #print('===============')\n",
    "    print('answer string\\t:'+ answer_string)\n",
    "    print('predict string\\t:' + predict_string)\n",
    "    print('===============')\n",
    "    "
   ]
  },
  {
   "cell_type": "code",
   "execution_count": null,
   "metadata": {},
   "outputs": [],
   "source": []
  }
 ],
 "metadata": {
  "kernelspec": {
   "display_name": "Python 3.6.10 64-bit ('env_electra': conda)",
   "language": "python",
   "name": "python361064bitenvelectraconda1ad35761db5241889e37482be0c5b23a"
  },
  "language_info": {
   "codemirror_mode": {
    "name": "ipython",
    "version": 3
   },
   "file_extension": ".py",
   "mimetype": "text/x-python",
   "name": "python",
   "nbconvert_exporter": "python",
   "pygments_lexer": "ipython3",
   "version": "3.6.10-final"
  }
 },
 "nbformat": 4,
 "nbformat_minor": 4
}